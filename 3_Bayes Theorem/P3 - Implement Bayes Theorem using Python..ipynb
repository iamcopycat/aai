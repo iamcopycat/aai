{
 "cells": [
  {
   "cell_type": "code",
   "execution_count": 4,
   "id": "303cce74",
   "metadata": {},
   "outputs": [
    {
     "name": "stdout",
     "output_type": "stream",
     "text": [
      "Probability  of the test-taker being a drug uer is :  0.089\n"
     ]
    }
   ],
   "source": [
    "def drug_user(prob_th=0.8,sensitivity=0.79,specificity=0.79,prevelance=0.02,verbose=True):\n",
    "    p_user = prevelance\n",
    "    p_non_user = 1 - prevelance\n",
    "    p_pos_user = sensitivity\n",
    "    p_neg_user = specificity\n",
    "    p_pos_non_user = 1 - specificity\n",
    "    \n",
    "    num = p_pos_user * p_user\n",
    "    den = p_pos_user * p_user + p_pos_non_user * p_non_user\n",
    "    \n",
    "    prob = num / den\n",
    "    \n",
    "    if (verbose):\n",
    "        if (prob > prob_th):\n",
    "            print(\"The test-taker could be an user\")            \n",
    "    else:\n",
    "            print(\"The test-taker may not be an user\")\n",
    "    return prob\n",
    "\n",
    "p = drug_user(0.5,0.97,0.95,0.005)\n",
    "print(\"Probability  of the test-taker being a drug uer is : \",round(p,3))"
   ]
  }
 ],
 "metadata": {
  "kernelspec": {
   "display_name": "Python 3",
   "language": "python",
   "name": "python3"
  },
  "language_info": {
   "codemirror_mode": {
    "name": "ipython",
    "version": 3
   },
   "file_extension": ".py",
   "mimetype": "text/x-python",
   "name": "python",
   "nbconvert_exporter": "python",
   "pygments_lexer": "ipython3",
   "version": "3.11.1"
  },
  "vscode": {
   "interpreter": {
    "hash": "b91f41160b83ffc59c7e17fa6fd02d637d5dcf1d5e59aa2db87d82178661b954"
   }
  }
 },
 "nbformat": 4,
 "nbformat_minor": 5
}
