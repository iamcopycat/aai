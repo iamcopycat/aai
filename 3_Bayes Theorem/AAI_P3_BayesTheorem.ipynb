{
  "nbformat": 4,
  "nbformat_minor": 0,
  "metadata": {
    "colab": {
      "provenance": [],
      "collapsed_sections": []
    },
    "kernelspec": {
      "name": "python3",
      "display_name": "Python 3"
    },
    "language_info": {
      "name": "python"
    }
  },
  "cells": [
    {
      "cell_type": "code",
      "execution_count": 1,
      "metadata": {
        "colab": {
          "base_uri": "https://localhost:8080/"
        },
        "id": "ykw-IRo6GEYu",
        "outputId": "9221d65f-99c7-4a8d-c66a-7dd2e131ce7a"
      },
      "outputs": [
        {
          "output_type": "stream",
          "name": "stdout",
          "text": [
            "Suryakant Chavan\n",
            "The test-taker may not be an user\n",
            "Probability of the test-taker being a drug user is: 0.089\n"
          ]
        }
      ],
      "source": [
        "def drug_user(prob_th=0.8,sensitivity=0.79,specificity=0.79,prevelance=0.02,verbose=True):\n",
        "\n",
        "#Computes the posterior using Bayes' Rule\n",
        "  p_user=prevelance\n",
        "  p_non_user=1-prevelance\n",
        "  p_pos_user=sensitivity\n",
        "  p_neg_user=specificity\n",
        "  p_pos_non_user=1-specificity\n",
        "\n",
        "  num=p_pos_user*p_user\n",
        "  den=p_pos_user*p_user+p_pos_non_user*p_non_user\n",
        "\n",
        "  prob=num/den\n",
        "  if verbose:\n",
        "    if prob>prob_th:\n",
        "        print(\"The test-taker could be an user\")\n",
        "    else:\n",
        "        print(\"The test-taker may not be an user\")\n",
        "  \n",
        "  return prob\n",
        "\n",
        "print(\"Suryakant Chavan\")\n",
        "p=drug_user(prob_th=0.5,sensitivity=0.97,specificity=0.95,prevelance=0.005,verbose=True)\n",
        "print(\"Probability of the test-taker being a drug user is:\",round(p,3))\n"
      ]
    }
  ]
}