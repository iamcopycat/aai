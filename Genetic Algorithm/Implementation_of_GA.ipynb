{
  "cells": [
    {
      "cell_type": "code",
      "execution_count": null,
      "id": "d047d9ff",
      "metadata": {
        "scrolled": true,
        "id": "d047d9ff",
        "outputId": "df60caad-caf2-4be5-ca06-adf4784d9496",
        "colab": {
          "base_uri": "https://localhost:8080/"
        }
      },
      "outputs": [
        {
          "output_type": "stream",
          "name": "stdout",
          "text": [
            "[[ 1.05296407  1.72607068 -1.88090724  1.80660045 -2.89777063  0.84558545]\n",
            " [-1.97635494  1.62939118  3.65949092 -2.54028252  3.4473359   1.27104069]\n",
            " [-1.57688912 -0.95103816  2.95604759  1.67378859 -0.36662691 -3.21366804]\n",
            " [-1.43875313 -2.21860311  3.07279383 -0.67749989 -1.84103813  3.0981828 ]\n",
            " [-2.60797629 -0.23048762 -0.80787553 -1.23314044  3.39129158  0.19813441]\n",
            " [ 3.69617743  3.22782091 -1.78070164 -0.60564332  3.52831028 -0.9335268 ]\n",
            " [-3.27421094 -0.00662424  2.25932178  3.06837434  2.44053851 -3.44675571]\n",
            " [ 2.17998173 -3.80902238  0.4155707  -1.29898012  0.21350135 -0.86472156]]\n",
            "Generation :  0\n",
            "Best result :  44.77119774189849\n",
            "Generation :  1\n",
            "Best result :  44.77119774189849\n",
            "Generation :  2\n",
            "Best result :  54.61183625259211\n",
            "Generation :  3\n",
            "Best result :  54.798198281614994\n",
            "Generation :  4\n",
            "Best result :  58.20185147281008\n",
            "Best solution :  [[[-1.43875313 -2.21860311  3.07279383  1.67378859 -2.29924515\n",
            "   -3.21366804]]]\n",
            "Best solution fitness :  [58.20185147]\n"
          ]
        }
      ],
      "source": [
        "import numpy\n",
        "import ga\n",
        "\n",
        "\"\"\"\n",
        "The y=target is to maximize this equation ASAP:\n",
        "    y = w1x1+w2x2+w3x3+w4x4+w5x5+6wx6\n",
        "    where (x1,x2,x3,x4,x5,x6)=(4,-2,3.5,5,-11,-4.7)\n",
        "    What are the best values for the 6 weights w1 to w6?\n",
        "    We are going to use the genetic algorithm for the best possible values after a number of generations.\n",
        "\"\"\"\n",
        "\n",
        "# Inputs of the equation.\n",
        "equation_inputs = [4,-2,3.5,5,-11,-4.7]\n",
        "\n",
        "# Number of the weights we are looking to optimize.\n",
        "num_weights = 6\n",
        "\n",
        "\"\"\"\n",
        "Genetic algorithm parameters:\n",
        "    Mating pool size\n",
        "    Population size\n",
        "\"\"\"\n",
        "sol_per_pop = 8\n",
        "num_parents_mating = 4\n",
        "\n",
        "# Defining the population size.\n",
        "pop_size = (sol_per_pop,num_weights) # The population will have sol_per_pop chromosome where each chromosome has num_weights genes.\n",
        "#Creating the initial population.\n",
        "new_population = numpy.random.uniform(low=-4.0, high=4.0, size=pop_size)\n",
        "print(new_population)\n",
        "\n",
        "num_generations = 5\n",
        "for generation in range(num_generations):\n",
        "    print(\"Generation : \", generation)\n",
        "    # Measing the fitness of each chromosome in the population.\n",
        "    fitness = ga.cal_pop_fitness(equation_inputs, new_population)\n",
        "\n",
        "    # Selecting the best parents in the population for mating.\n",
        "    parents = ga.select_mating_pool(new_population, fitness, \n",
        "                                      num_parents_mating)\n",
        "\n",
        "    # Generating next generation using crossover.\n",
        "    offspring_crossover = ga.crossover(parents,\n",
        "                                       offspring_size=(pop_size[0]-parents.shape[0], num_weights))\n",
        "\n",
        "    # Adding some variations to the offsrping using mutation.\n",
        "    offspring_mutation = ga.mutation(offspring_crossover)\n",
        "\n",
        "    # Creating the new population based on the parents and offspring.\n",
        "    new_population[0:parents.shape[0], :] = parents\n",
        "    new_population[parents.shape[0]:, :] = offspring_mutation\n",
        "\n",
        "    # The best result in the current iteration.\n",
        "    print(\"Best result : \", numpy.max(numpy.sum(new_population*equation_inputs, axis=1)))\n",
        "\n",
        "# Getting the best solution after iterating finishing all generations.\n",
        "#At first, the fitness is calculated for each solution in the final generation.\n",
        "fitness = ga.cal_pop_fitness(equation_inputs, new_population)\n",
        "# Then return the index of that solution corresponding to the best fitness.\n",
        "best_match_idx = numpy.where(fitness == numpy.max(fitness))\n",
        "\n",
        "print(\"Best solution : \", new_population[best_match_idx, :])\n",
        "print(\"Best solution fitness : \", fitness[best_match_idx])"
      ]
    },
    {
      "cell_type": "code",
      "execution_count": null,
      "id": "4cfe1ae6",
      "metadata": {
        "id": "4cfe1ae6"
      },
      "outputs": [],
      "source": []
    }
  ],
  "metadata": {
    "kernelspec": {
      "display_name": "Python 3 (ipykernel)",
      "language": "python",
      "name": "python3"
    },
    "language_info": {
      "codemirror_mode": {
        "name": "ipython",
        "version": 3
      },
      "file_extension": ".py",
      "mimetype": "text/x-python",
      "name": "python",
      "nbconvert_exporter": "python",
      "pygments_lexer": "ipython3",
      "version": "3.10.0"
    },
    "colab": {
      "provenance": [],
      "collapsed_sections": []
    }
  },
  "nbformat": 4,
  "nbformat_minor": 5
}