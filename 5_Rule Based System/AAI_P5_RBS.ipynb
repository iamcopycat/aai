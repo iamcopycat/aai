{
  "nbformat": 4,
  "nbformat_minor": 0,
  "metadata": {
    "colab": {
      "provenance": [],
      "collapsed_sections": []
    },
    "kernelspec": {
      "name": "python3",
      "display_name": "Python 3"
    },
    "language_info": {
      "name": "python"
    }
  },
  "cells": [
    {
      "cell_type": "code",
      "execution_count": null,
      "metadata": {
        "colab": {
          "base_uri": "https://localhost:8080/",
          "height": 130
        },
        "id": "qZS43KL7TUUb",
        "outputId": "a8f7af70-34ef-4042-ac69-a8f1430a7219"
      },
      "outputs": [
        {
          "output_type": "error",
          "ename": "SyntaxError",
          "evalue": "ignored",
          "traceback": [
            "\u001b[0;36m  File \u001b[0;32m\"<ipython-input-1-d029025ad698>\"\u001b[0;36m, line \u001b[0;32m1\u001b[0m\n\u001b[0;31m    man(lou).\u001b[0m\n\u001b[0m             ^\u001b[0m\n\u001b[0;31mSyntaxError\u001b[0m\u001b[0;31m:\u001b[0m invalid syntax\n"
          ]
        }
      ],
      "source": [
        "man(lou).\n",
        "man(pete).\n",
        "man(ian).\n",
        "man(peter).\n",
        "\n",
        "woman(pauline).\n",
        "woman(cathy).\n",
        "woman(lucy).\n",
        "\n",
        "parent(ian,lucy).\n",
        "parent(ian,peter).\n",
        "parent(cathy,ian).\n",
        "parent(pete,ian).\n",
        "parent(lou,pete).\n",
        "parent(lou,pauline).\n",
        "\n",
        "mother(X,Y):-woman(X),parent(X,Y),(X\\=Y).\n",
        "father(X,Y):-man(X),parent(X,Y),(X\\=Y).\n",
        "\n",
        "sibling(X,Y):-parent(Z,X),parent(Z,Y),(X\\=Y).\n",
        "brother(X,Y):-man(X),sibling(X,Y),(X\\=Y).\n",
        "sister(X,Y):-woman(X),sibling(X,Y),(X\\=Y).\n",
        "\n",
        "grandfather(X, Y)-father(X,2),parent(2Y),(X\\=Y).\n",
        "grandmother(X, Y)-mother(X,2),parent(2,Y),(X\\=Y).\n",
        "\n",
        "ancestor(X, Y):=parent(X,Y),(X\\=Y).\n",
        "ancestor(X, Y):=parent(X,Z),ancestor(Z,Y),(X\\=Y).\n",
        "\n",
        "\n"
      ]
    }
  ]
}