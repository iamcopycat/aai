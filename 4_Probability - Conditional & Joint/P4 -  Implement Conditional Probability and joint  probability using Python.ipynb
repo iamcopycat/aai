{
 "cells": [
  {
   "cell_type": "code",
   "execution_count": 1,
   "id": "b3f52466",
   "metadata": {},
   "outputs": [
    {
     "name": "stdout",
     "output_type": "stream",
     "text": [
      "the probability that applicant passes both is :  0.09\n",
      "probability that he/she passes only Coding is :  0.43\n",
      "Conditional Probability is :  0.209\n"
     ]
    }
   ],
   "source": [
    "def conditional():\n",
    "    pass_stats = 0.15\n",
    "    pass_codingWStats = 0.60\n",
    "    pass_codingWOStats = 0.40\n",
    "    prob_both = pass_stats * pass_codingWStats\n",
    "    \n",
    "    print(\"the probability that applicant passes both is : \",round(prob_both,3))\n",
    "    prob_coding = (prob_both) + ((1 - pass_stats) * pass_codingWOStats)\n",
    "    \n",
    "    print(\"probability that he/she passes only Coding is : \",round(prob_coding,3))\n",
    "    stat_given_coding =  prob_both / prob_coding\n",
    "    print(\"Conditional Probability is : \",round(stat_given_coding,3))\n",
    "    \n",
    "conditional()"
   ]
  },
  {
   "cell_type": "code",
   "execution_count": 2,
   "id": "63530050",
   "metadata": {},
   "outputs": [
    {
     "ename": "ModuleNotFoundError",
     "evalue": "No module named 'numpy'",
     "output_type": "error",
     "traceback": [
      "\u001b[1;31m---------------------------------------------------------------------------\u001b[0m",
      "\u001b[1;31mModuleNotFoundError\u001b[0m                       Traceback (most recent call last)",
      "Cell \u001b[1;32mIn[2], line 1\u001b[0m\n\u001b[1;32m----> 1\u001b[0m \u001b[39mimport\u001b[39;00m \u001b[39mnumpy\u001b[39;00m \u001b[39mas\u001b[39;00m \u001b[39mnp\u001b[39;00m\n\u001b[0;32m      2\u001b[0m \u001b[39mimport\u001b[39;00m \u001b[39mmatplotlib\u001b[39;00m\u001b[39m.\u001b[39;00m\u001b[39mpyplot\u001b[39;00m \u001b[39mas\u001b[39;00m \u001b[39mplt\u001b[39;00m\n\u001b[0;32m      3\u001b[0m \u001b[39mimport\u001b[39;00m \u001b[39mseaborn\u001b[39;00m \u001b[39mas\u001b[39;00m \u001b[39msns\u001b[39;00m\n",
      "\u001b[1;31mModuleNotFoundError\u001b[0m: No module named 'numpy'"
     ]
    }
   ],
   "source": [
    "import numpy as np\n",
    "import matplotlib.pyplot as plt\n",
    "import seaborn as sns\n",
    "import pandas as pd\n",
    "\n",
    "sns.set()\n",
    "data = pd.read_csv(\"data.csv\",header=None,names=['x','y'])\n",
    "sns.jointplot(data['x'],data['y'],kind='kde').plot_joint(sns.scatterplot)\n",
    "plt.show()"
   ]
  },
  {
   "cell_type": "code",
   "execution_count": null,
   "id": "bf82bcd6",
   "metadata": {},
   "outputs": [],
   "source": []
  }
 ],
 "metadata": {
  "kernelspec": {
   "display_name": "Python 3",
   "language": "python",
   "name": "python3"
  },
  "language_info": {
   "codemirror_mode": {
    "name": "ipython",
    "version": 3
   },
   "file_extension": ".py",
   "mimetype": "text/x-python",
   "name": "python",
   "nbconvert_exporter": "python",
   "pygments_lexer": "ipython3",
   "version": "3.11.1 (tags/v3.11.1:a7a450f, Dec  6 2022, 19:58:39) [MSC v.1934 64 bit (AMD64)]"
  },
  "vscode": {
   "interpreter": {
    "hash": "b91f41160b83ffc59c7e17fa6fd02d637d5dcf1d5e59aa2db87d82178661b954"
   }
  }
 },
 "nbformat": 4,
 "nbformat_minor": 5
}
